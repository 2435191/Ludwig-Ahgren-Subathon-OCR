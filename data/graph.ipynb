{
 "metadata": {
  "language_info": {
   "codemirror_mode": {
    "name": "ipython",
    "version": 3
   },
   "file_extension": ".py",
   "mimetype": "text/x-python",
   "name": "python",
   "nbconvert_exporter": "python",
   "pygments_lexer": "ipython3",
   "version": "3.8.2-final"
  },
  "orig_nbformat": 2,
  "kernelspec": {
   "name": "python382jvsc74a57bd0082e9a3bcad0a290d0001e938aa60b99250c6c2ef33a923c00b70f9826caf4b7",
   "display_name": "Python 3.8.2 64-bit"
  }
 },
 "nbformat": 4,
 "nbformat_minor": 2,
 "cells": [
  {
   "cell_type": "code",
   "execution_count": 1,
   "metadata": {},
   "outputs": [],
   "source": [
    "%matplotlib tk\n",
    "import matplotlib.pyplot as plt\n",
    "import matplotlib as mpl\n",
    "from matplotlib.ticker import FuncFormatter\n",
    "from matplotlib import dates\n",
    "from datetime import datetime, timedelta\n",
    "import pandas\n",
    "import os\n",
    "from numpy import isnan"
   ]
  },
  {
   "cell_type": "code",
   "execution_count": 2,
   "metadata": {},
   "outputs": [],
   "source": [
    "def seconds_to_string(n: int, _) -> str:\n",
    "    hour = int(n // 3600)\n",
    "    seconds = int(n % 60)\n",
    "    minutes = int((n // 60) % 60)\n",
    "    return f\"{hour}:{minutes:02}:{seconds:02}\""
   ]
  },
  {
   "cell_type": "code",
   "execution_count": 3,
   "metadata": {
    "tags": []
   },
   "outputs": [],
   "source": [
    "for fp in os.listdir('csvs/cleaned'):\n",
    "    df = pandas.read_csv(os.path.join('csvs/cleaned', fp), index_col='frame')\n",
    "    \n",
    "    fig, ax = plt.subplots(figsize=(12, 8))\n",
    "    ax.plot(df.index/29.97, df['timer_value'], markersize=1)\n",
    "\n",
    "    ax.xaxis.set_major_formatter(FuncFormatter(seconds_to_string))\n",
    "    ax.xaxis.set_major_locator(mpl.ticker.MultipleLocator(base=3600))\n",
    "    ax.set_xlabel('time into stream')\n",
    "\n",
    "    ax.yaxis.set_major_formatter(FuncFormatter(seconds_to_string))\n",
    "    ax.yaxis.set_major_locator(mpl.ticker.MultipleLocator(base=3600/2))\n",
    "    ax.set_ylabel('time remaining')\n",
    "    vod, v = fp.split('|')\n",
    "    ax.set_title(f'VOD {vod}')\n",
    "    fig.text(0.1, 0.9, f'Video available at youtube.com/watch?v={v[:-4]}')\n",
    "    fig.text(0.6, 0.9, f'Made by u/2435191 with cv2, tesseract, pandas, and mpl')\n",
    "    fig.savefig(f'graphs/{vod}.png', dpi=400)\n"
   ]
  },
  {
   "cell_type": "code",
   "execution_count": null,
   "metadata": {},
   "outputs": [],
   "source": []
  }
 ]
}