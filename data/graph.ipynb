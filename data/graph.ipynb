{
 "metadata": {
  "language_info": {
   "codemirror_mode": {
    "name": "ipython",
    "version": 3
   },
   "file_extension": ".py",
   "mimetype": "text/x-python",
   "name": "python",
   "nbconvert_exporter": "python",
   "pygments_lexer": "ipython3",
   "version": "3.8.2-final"
  },
  "orig_nbformat": 2,
  "kernelspec": {
   "name": "python382jvsc74a57bd0082e9a3bcad0a290d0001e938aa60b99250c6c2ef33a923c00b70f9826caf4b7",
   "display_name": "Python 3.8.2 64-bit"
  }
 },
 "nbformat": 4,
 "nbformat_minor": 2,
 "cells": [
  {
   "cell_type": "code",
   "execution_count": 1,
   "metadata": {},
   "outputs": [],
   "source": [
    "%matplotlib tk\n",
    "import matplotlib.pyplot as plt\n",
    "import matplotlib as mpl\n",
    "from matplotlib.ticker import FuncFormatter\n",
    "from matplotlib import dates\n",
    "from datetime import datetime, timedelta\n",
    "import pandas\n",
    "import os\n",
    "from numpy import isnan"
   ]
  },
  {
   "cell_type": "code",
   "execution_count": 16,
   "metadata": {},
   "outputs": [],
   "source": [
    "def seconds_to_string(n: int, _) -> str:\n",
    "    hour = int(n // 3600)\n",
    "    seconds = int(n % 60)\n",
    "    minutes = int((n // 60) % 60)\n",
    "    return f\"{hour}:{minutes:02}:{seconds:02}\""
   ]
  },
  {
   "cell_type": "code",
   "execution_count": 3,
   "metadata": {},
   "outputs": [],
   "source": [
    "def secant_is_ok_func(df):\n",
    "    prev_value = df['timer_value'].shift(1)\n",
    "    prev_index = df.index.to_series().shift(1)\n",
    "    index_diff = df.index - prev_index\n",
    "    seconds_slope = (df['timer_value'] - prev_value) / (index_diff / 29.97)\n",
    "    secant_is_ok = seconds_slope.apply(lambda x: x > -1.5 or isnan(x))\n",
    "    return secant_is_ok\n",
    "\n"
   ]
  },
  {
   "cell_type": "code",
   "execution_count": 18,
   "metadata": {
    "tags": []
   },
   "outputs": [],
   "source": [
    "for fp in os.listdir('csvs'):\n",
    "    df = pandas.read_csv(os.path.join('csvs', fp), index_col='frame')\n",
    "    df = df[df['timer_value'] != -1]\n",
    "\n",
    "    while True: # filter by secant lines— should not fall > 1/sec / sec (ish)\n",
    "        ok = secant_is_ok_func(df)\n",
    "\n",
    "        df = df.loc[ok & ok.shift(-1), :]\n",
    "\n",
    "        if (~ok).sum() <= 1 and (~secant_is_ok_func(df)).sum() <= 1:\n",
    "            break\n",
    "    fig, ax = plt.subplots(figsize=(12, 8))\n",
    "    ax.plot(df.index/29.97, df['timer_value'], markersize=1)\n",
    "\n",
    "    ax.xaxis.set_major_formatter(FuncFormatter(seconds_to_string))\n",
    "    ax.xaxis.set_major_locator(mpl.ticker.MultipleLocator(base=3600*3))\n",
    "    ax.set_xlabel('time into stream')\n",
    "\n",
    "    ax.yaxis.set_major_formatter(FuncFormatter(seconds_to_string))\n",
    "    ax.yaxis.set_major_locator(mpl.ticker.MultipleLocator(base=3600/2))\n",
    "    ax.set_ylabel('time remaining')\n",
    "    vod, v = fp.split('|')\n",
    "    ax.set_title(f'VOD {vod}')\n",
    "    fig.text(0.1, 0.9, f'Video available at youtube.com/watch?v={v[:-4]}')\n",
    "    fig.text(0.6, 0.9, f'Made by u/2435191 with cv2, tesseract, pandas, and mpl')\n",
    "    fig.savefig(f'graphs/{vod}.png', dpi=400)\n"
   ]
  },
  {
   "cell_type": "code",
   "execution_count": null,
   "metadata": {},
   "outputs": [],
   "source": []
  }
 ]
}