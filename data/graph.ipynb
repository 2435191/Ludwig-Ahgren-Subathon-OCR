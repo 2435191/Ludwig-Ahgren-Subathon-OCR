{
 "metadata": {
  "language_info": {
   "codemirror_mode": {
    "name": "ipython",
    "version": 3
   },
   "file_extension": ".py",
   "mimetype": "text/x-python",
   "name": "python",
   "nbconvert_exporter": "python",
   "pygments_lexer": "ipython3",
   "version": "3.8.2-final"
  },
  "orig_nbformat": 2,
  "kernelspec": {
   "name": "python382jvsc74a57bd0082e9a3bcad0a290d0001e938aa60b99250c6c2ef33a923c00b70f9826caf4b7",
   "display_name": "Python 3.8.2 64-bit"
  }
 },
 "nbformat": 4,
 "nbformat_minor": 2,
 "cells": [
  {
   "cell_type": "code",
   "execution_count": 45,
   "metadata": {},
   "outputs": [],
   "source": [
    "%matplotlib tk\n",
    "import matplotlib.pyplot as plt\n",
    "import pandas\n",
    "import os\n",
    "from numpy import isnan"
   ]
  },
  {
   "cell_type": "code",
   "execution_count": 114,
   "metadata": {
    "tags": []
   },
   "outputs": [
    {
     "output_type": "stream",
     "name": "stdout",
     "text": [
      "27020\n21093\n"
     ]
    }
   ],
   "source": [
    "for fp in os.listdir('csvs'):\n",
    "    df = pandas.read_csv(os.path.join('csvs', fp), index_col='frame')\n",
    "    df = df[df['timer_value'] != -1]\n",
    "\n",
    "    print(len(df))\n",
    "\n",
    "    while True:\n",
    "        ok = secant_is_ok_func(df)\n",
    "\n",
    "        df = df.loc[ok & ok.shift(-1), :]\n",
    "\n",
    "        if (~ok).sum() <= 10 and (~secant_is_ok_func(df)).sum() <= 10:\n",
    "            break\n",
    "    df.to_csv('test.csv')\n",
    "    print(len(df))\n",
    "    \n",
    "\n",
    "    plt.scatter(df.index, df['timer_value'], s=2)\n"
   ]
  },
  {
   "cell_type": "code",
   "execution_count": 93,
   "metadata": {},
   "outputs": [],
   "source": [
    "df.to_csv('test.csv')"
   ]
  },
  {
   "cell_type": "code",
   "execution_count": 100,
   "metadata": {},
   "outputs": [],
   "source": [
    "def secant_is_ok_func(df):\n",
    "    prev_value = df['timer_value'].shift(1)\n",
    "    prev_index = df.index.to_series().shift(1)\n",
    "    index_diff = df.index - prev_index\n",
    "    seconds_slope = (df['timer_value'] - prev_value) / (index_diff / 30)\n",
    "    secant_is_ok = seconds_slope.apply(lambda x: x > -1.5 or isnan(x))\n",
    "    return secant_is_ok\n",
    "\n"
   ]
  },
  {
   "cell_type": "code",
   "execution_count": 107,
   "metadata": {},
   "outputs": [],
   "source": [
    "df = df[secant_is_ok_func(df)]"
   ]
  },
  {
   "cell_type": "code",
   "execution_count": 109,
   "metadata": {},
   "outputs": [],
   "source": [
    "df.to_csv('test.csv')"
   ]
  },
  {
   "cell_type": "code",
   "execution_count": 110,
   "metadata": {},
   "outputs": [],
   "source": [
    "df = df[secant_is_ok_func(df)]"
   ]
  },
  {
   "cell_type": "code",
   "execution_count": 111,
   "metadata": {},
   "outputs": [],
   "source": [
    "df.to_csv('test.csv')"
   ]
  },
  {
   "cell_type": "code",
   "execution_count": 113,
   "metadata": {},
   "outputs": [
    {
     "output_type": "execute_result",
     "data": {
      "text/plain": [
       "       video_timestamp  timer_value timer_timestamp\n",
       "frame                                              \n",
       "5425         000:03:01       122617        34:03:37\n",
       "9531         000:05:18       122490        34:01:30\n",
       "14896        000:08:17       122891        34:08:11\n",
       "16244        000:09:02       122882        34:08:02\n",
       "19901        000:11:04       122790        34:06:30\n",
       "...                ...          ...             ...\n",
       "958620       008:53:05       103388        28:43:08\n",
       "959340       008:53:30       103374        28:42:54\n",
       "968630       008:58:39       103194        28:39:54\n",
       "976453       009:03:01       103093        28:38:13\n",
       "980618       009:05:19       103050        28:37:30\n",
       "\n",
       "[934 rows x 3 columns]"
      ],
      "text/html": "<div>\n<style scoped>\n    .dataframe tbody tr th:only-of-type {\n        vertical-align: middle;\n    }\n\n    .dataframe tbody tr th {\n        vertical-align: top;\n    }\n\n    .dataframe thead th {\n        text-align: right;\n    }\n</style>\n<table border=\"1\" class=\"dataframe\">\n  <thead>\n    <tr style=\"text-align: right;\">\n      <th></th>\n      <th>video_timestamp</th>\n      <th>timer_value</th>\n      <th>timer_timestamp</th>\n    </tr>\n    <tr>\n      <th>frame</th>\n      <th></th>\n      <th></th>\n      <th></th>\n    </tr>\n  </thead>\n  <tbody>\n    <tr>\n      <th>5425</th>\n      <td>000:03:01</td>\n      <td>122617</td>\n      <td>34:03:37</td>\n    </tr>\n    <tr>\n      <th>9531</th>\n      <td>000:05:18</td>\n      <td>122490</td>\n      <td>34:01:30</td>\n    </tr>\n    <tr>\n      <th>14896</th>\n      <td>000:08:17</td>\n      <td>122891</td>\n      <td>34:08:11</td>\n    </tr>\n    <tr>\n      <th>16244</th>\n      <td>000:09:02</td>\n      <td>122882</td>\n      <td>34:08:02</td>\n    </tr>\n    <tr>\n      <th>19901</th>\n      <td>000:11:04</td>\n      <td>122790</td>\n      <td>34:06:30</td>\n    </tr>\n    <tr>\n      <th>...</th>\n      <td>...</td>\n      <td>...</td>\n      <td>...</td>\n    </tr>\n    <tr>\n      <th>958620</th>\n      <td>008:53:05</td>\n      <td>103388</td>\n      <td>28:43:08</td>\n    </tr>\n    <tr>\n      <th>959340</th>\n      <td>008:53:30</td>\n      <td>103374</td>\n      <td>28:42:54</td>\n    </tr>\n    <tr>\n      <th>968630</th>\n      <td>008:58:39</td>\n      <td>103194</td>\n      <td>28:39:54</td>\n    </tr>\n    <tr>\n      <th>976453</th>\n      <td>009:03:01</td>\n      <td>103093</td>\n      <td>28:38:13</td>\n    </tr>\n    <tr>\n      <th>980618</th>\n      <td>009:05:19</td>\n      <td>103050</td>\n      <td>28:37:30</td>\n    </tr>\n  </tbody>\n</table>\n<p>934 rows × 3 columns</p>\n</div>"
     },
     "metadata": {},
     "execution_count": 113
    }
   ],
   "source": [
    "df[~secant_is_ok_func(df)]"
   ]
  },
  {
   "cell_type": "code",
   "execution_count": null,
   "metadata": {},
   "outputs": [],
   "source": []
  }
 ]
}