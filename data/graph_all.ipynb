{
 "metadata": {
  "language_info": {
   "codemirror_mode": {
    "name": "ipython",
    "version": 3
   },
   "file_extension": ".py",
   "mimetype": "text/x-python",
   "name": "python",
   "nbconvert_exporter": "python",
   "pygments_lexer": "ipython3",
   "version": "3.8.2"
  },
  "orig_nbformat": 2,
  "kernelspec": {
   "name": "python382jvsc74a57bd0082e9a3bcad0a290d0001e938aa60b99250c6c2ef33a923c00b70f9826caf4b7",
   "display_name": "Python 3.8.2 64-bit ('3.8')"
  }
 },
 "nbformat": 4,
 "nbformat_minor": 2,
 "cells": [
  {
   "cell_type": "code",
   "execution_count": 1,
   "metadata": {},
   "outputs": [],
   "source": [
    "%matplotlib tk\n",
    "import pandas\n",
    "import pafy\n",
    "import os\n",
    "import matplotlib.pyplot as plt\n",
    "import matplotlib as mpl\n",
    "from matplotlib.ticker import FuncFormatter, MultipleLocator\n"
   ]
  },
  {
   "cell_type": "code",
   "execution_count": 2,
   "metadata": {},
   "outputs": [],
   "source": [
    "master_df = pandas.DataFrame(\n",
    "    columns=['seconds', 'timer_value', 'idx']\n",
    ").set_index('seconds')"
   ]
  },
  {
   "cell_type": "code",
   "execution_count": 3,
   "metadata": {},
   "outputs": [],
   "source": [
    "def ts_to_int(s):\n",
    "    hours, minutes, seconds = s.split(':')\n",
    "    return 3600 * int(hours) + 60 * int(minutes) + int(seconds)"
   ]
  },
  {
   "cell_type": "code",
   "execution_count": 4,
   "metadata": {},
   "outputs": [],
   "source": [
    "def seconds_to_string(n: int, _) -> str:\n",
    "    days = int(n // (3600 * 24))\n",
    "    seconds_after_days = n % (3600 * 24)\n",
    "    hour = int(seconds_after_days // 3600)\n",
    "    seconds = int(seconds_after_days % 60)\n",
    "    minutes = int((seconds_after_days // 60) % 60)\n",
    "    return f\"{days}:{hour:02}:{minutes:02}:{seconds:02}\""
   ]
  },
  {
   "cell_type": "code",
   "execution_count": 5,
   "metadata": {},
   "outputs": [],
   "source": [
    "elapsed_time = 0\n",
    "for fp in sorted(os.listdir('csvs/cleaned')):\n",
    "    try:\n",
    "        idx, qstring = fp.split('|')\n",
    "    except ValueError:\n",
    "        continue\n",
    "    qstring = qstring.replace('.csv', '')\n",
    "    url = f'https://www.youtube.com/watch?v={qstring}'\n",
    "\n",
    "    df = pandas.read_csv('csvs/cleaned/' + fp)\n",
    "    df['seconds'] = df['video_timestamp'].apply(ts_to_int)\n",
    "    df['seconds'] += elapsed_time\n",
    "    df.set_index('seconds', inplace=True)\n",
    "    df['idx'] = idx\n",
    "    \n",
    "    master_df = pandas.concat( [master_df, df.loc[:, ['timer_value', 'idx']] ] )\n",
    "\n",
    "    \n",
    "    elapsed_time += pafy.new(url).length"
   ]
  },
  {
   "cell_type": "code",
   "execution_count": 6,
   "metadata": {},
   "outputs": [],
   "source": [
    "master_df.to_csv('csvs/cleaned/all.csv')"
   ]
  },
  {
   "cell_type": "code",
   "execution_count": 8,
   "metadata": {},
   "outputs": [],
   "source": [
    "\n",
    "fig, ax = plt.subplots(figsize=(24, 16))\n",
    "ax.plot(master_df.index, master_df['timer_value'], markersize=0.5)\n",
    "\n",
    "ax.xaxis.set_major_formatter(FuncFormatter(seconds_to_string))\n",
    "ax.xaxis.set_major_locator(MultipleLocator(base=3600*48))\n",
    "ax.set_xlabel('time into stream')\n",
    "\n",
    "ax.yaxis.set_major_formatter(FuncFormatter(seconds_to_string))\n",
    "ax.yaxis.set_major_locator(MultipleLocator(base=3600*12))\n",
    "ax.set_ylim([0, None])\n",
    "ax.set_ylabel('time remaining')\n",
    "ax.set_title(f'All VODs')\n",
    "fig.text(0.6, 0.9, f'Made by u/2435191 with cv2, tesseract, pandas, and mpl')\n",
    "fig.savefig(f'graphs/all.png', dpi=400)"
   ]
  },
  {
   "cell_type": "code",
   "execution_count": 30,
   "metadata": {},
   "outputs": [],
   "source": []
  },
  {
   "cell_type": "code",
   "execution_count": null,
   "metadata": {},
   "outputs": [],
   "source": []
  }
 ]
}