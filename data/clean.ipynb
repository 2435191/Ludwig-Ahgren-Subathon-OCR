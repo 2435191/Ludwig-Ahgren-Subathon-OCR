{
 "metadata": {
  "language_info": {
   "codemirror_mode": {
    "name": "ipython",
    "version": 3
   },
   "file_extension": ".py",
   "mimetype": "text/x-python",
   "name": "python",
   "nbconvert_exporter": "python",
   "pygments_lexer": "ipython3",
   "version": "3.8.2-final"
  },
  "orig_nbformat": 2,
  "kernelspec": {
   "name": "python382jvsc74a57bd0082e9a3bcad0a290d0001e938aa60b99250c6c2ef33a923c00b70f9826caf4b7",
   "display_name": "Python 3.8.2 64-bit"
  }
 },
 "nbformat": 4,
 "nbformat_minor": 2,
 "cells": [
  {
   "cell_type": "code",
   "execution_count": 1,
   "metadata": {},
   "outputs": [],
   "source": [
    "import pandas\n",
    "from numpy import isnan"
   ]
  },
  {
   "cell_type": "code",
   "execution_count": 2,
   "metadata": {},
   "outputs": [],
   "source": [
    "df = pandas.read_csv('csvs/raw/28.csv', index_col='frame')"
   ]
  },
  {
   "cell_type": "code",
   "execution_count": 3,
   "metadata": {},
   "outputs": [],
   "source": [
    "df.sort_index(inplace=True)"
   ]
  },
  {
   "cell_type": "code",
   "execution_count": 4,
   "metadata": {},
   "outputs": [
    {
     "output_type": "execute_result",
     "data": {
      "text/plain": [
       "0.7172966434835198"
      ]
     },
     "metadata": {},
     "execution_count": 4
    }
   ],
   "source": [
    "(df['timer_value'] != -1).sum() / len(df)"
   ]
  },
  {
   "cell_type": "code",
   "execution_count": 5,
   "metadata": {},
   "outputs": [],
   "source": [
    "df = df[df['timer_value'] != -1]"
   ]
  },
  {
   "cell_type": "code",
   "execution_count": 6,
   "metadata": {},
   "outputs": [],
   "source": [
    "def secant_is_ok_func(df):\n",
    "    prev_value = df['timer_value'].shift(1)\n",
    "    prev_index = df.index.to_series().shift(1)\n",
    "    index_diff = df.index - prev_index\n",
    "    seconds_slope = (df['timer_value'] - prev_value) / (index_diff / 29.97)\n",
    "    secant_is_ok = seconds_slope.apply(lambda x: x > -1.5 or isnan(x))\n",
    "    return secant_is_ok"
   ]
  },
  {
   "cell_type": "code",
   "execution_count": 7,
   "metadata": {},
   "outputs": [],
   "source": [
    "while True: # filter by secant lines— should not fall > 1/sec / sec (ish)\n",
    "    ok = secant_is_ok_func(df)\n",
    "    df = df.loc[ok & ok.shift(-1), :]\n",
    "\n",
    "    if (~ok).sum() <= 1 and (~secant_is_ok_func(df)).sum() <= 1:\n",
    "        break"
   ]
  },
  {
   "cell_type": "code",
   "execution_count": 8,
   "metadata": {},
   "outputs": [],
   "source": [
    "df.to_csv('csvs/cleaned/29|yBkNpkF_Q9A.csv')"
   ]
  }
 ]
}